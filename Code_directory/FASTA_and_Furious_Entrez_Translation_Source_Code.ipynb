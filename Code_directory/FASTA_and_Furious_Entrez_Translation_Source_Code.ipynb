{
 "cells": [
  {
   "cell_type": "markdown",
   "metadata": {},
   "source": [
    "This jupyter notebook contains the source code for reproduction of the results detailed in the 2013 paper titled *Staphylococcus aureus* innate immume evasion is lineage-specific: A bioinfomatics study, authored by Alex J. McCarthy and Jodi A. Lindsay in Infection, Genetics and Evolution (https://doi.org/10.1016/j.meegid.2013.06.012)"
   ]
  },
  {
   "cell_type": "markdown",
   "metadata": {},
   "source": [
    "### Download of *S. aureus*  genome isolates for analysis\n",
    "\n",
    "88 isolates to be downloaded fron NCBI GeneBank Database"
   ]
  },
  {
   "cell_type": "code",
   "execution_count": 236,
   "metadata": {
    "scrolled": true
   },
   "outputs": [
    {
     "name": "stdout",
     "output_type": "stream",
     "text": [
      "Requirement already satisfied: biopython in /opt/anaconda3/lib/python3.7/site-packages (1.74)\n",
      "Requirement already satisfied: numpy in /opt/anaconda3/lib/python3.7/site-packages (from biopython) (1.17.2)\n",
      "Note: you may need to restart the kernel to use updated packages.\n"
     ]
    }
   ],
   "source": [
    "pip install biopython"
   ]
  },
  {
   "cell_type": "code",
   "execution_count": 237,
   "metadata": {},
   "outputs": [],
   "source": [
    "from Bio.Blast import NCBIWWW\n",
    "from Bio.Seq import Seq\n",
    "from Bio.Alphabet import IUPAC\n",
    "from Bio.SeqRecord import SeqRecord\n",
    "from Bio import SeqIO\n",
    "from Bio.SeqUtils.ProtParam import ProteinAnalysis"
   ]
  },
  {
   "cell_type": "code",
   "execution_count": 238,
   "metadata": {},
   "outputs": [],
   "source": [
    "from Bio import Entrez\n",
    "Entrez.email = \"dray@iastate.edu\""
   ]
  },
  {
   "cell_type": "code",
   "execution_count": 239,
   "metadata": {
    "scrolled": true
   },
   "outputs": [
    {
     "name": "stdout",
     "output_type": "stream",
     "text": [
      "ID: NZ_ADVP00000000.1\n",
      "Name: NZ_ADVP01000000\n",
      "Description: Staphylococcus aureus subsp. aureus ATCC 51811, whole genome shotgun sequencing project\n",
      "Database cross-references: BioProject:PRJNA224116, BioSample:SAMN00139434, Assembly:GCF_000164715.1\n",
      "Number of features: 1\n",
      "/molecule_type=DNA\n",
      "/topology=linear\n",
      "/data_file_division=BCT\n",
      "/date=18-SEP-2019\n",
      "/accessions=['NZ_ADVP00000000']\n",
      "/sequence_version=1\n",
      "/keywords=['WGS', 'HIGH_QUALITY_DRAFT', 'RefSeq']\n",
      "/source=Staphylococcus aureus subsp. aureus ATCC 51811\n",
      "/organism=Staphylococcus aureus subsp. aureus ATCC 51811\n",
      "/taxonomy=['Bacteria', 'Firmicutes', 'Bacilli', 'Bacillales', 'Staphylococcaceae', 'Staphylococcus']\n",
      "/references=[Reference(title='Direct Submission', ...)]\n",
      "/comment=REFSEQ INFORMATION: The reference sequence was derived from\n",
      "ADVP00000000.\n",
      "The Staphylococcus aureus subsp. aureus ATCC 51811 whole genome\n",
      "shotgun (WGS) project has the project accession NZ_ADVP00000000.\n",
      "This version of the project (01) has the accession number\n",
      "NZ_ADVP01000000, and consists of sequences\n",
      "ADVP01000001-ADVP01000047.\n",
      "Staphylococcus aureus subsp. aureus ATCC 51811\n",
      " Strain source, body site: airways, nasal\n",
      " Inquiries should be directed to microbe@hgsc.bcm.tmc.edu\n",
      " This is a reference genome for the Human Microbiome Project. This\n",
      "project is co-owned with the Human Microbiome Project DACC.\n",
      " This sequence is generated as a part of the Human Microbiome\n",
      "Project (HMP), funded by the National Institutes of Health (NIH),\n",
      "National Human Genome Research Institute (NHGRI) Large-Scale\n",
      "Sequencing Research Network and the National Institute of Allergy\n",
      "and Infectious Diseases (NIAID) Microbial Genome Sequencing Centers\n",
      "Program.  The mission of the HMP is to generate resources to enable\n",
      "the characterization of the human microbiota, the microbial\n",
      "communities living within human bodies, and analyze the role of\n",
      "these organisms in human health and disease.  See\n",
      "http://www.hmpdacc.org/ for more information.\n",
      " The sequenced strain was obtained from University of Arizona\n",
      "(Department of Veterinary Science and Microbiology, 1117 E. Lowell\n",
      "Street, Bldg 90 Room 218, Tucson, AZ, 85721).  The genomic DNA was\n",
      "prepared from a single bacterial isolate.  The sequence generated\n",
      "included at least 10 fold coverage of Roche/454 Lifesciences FLX\n",
      "fragment data and at least 8 fold clone coverage of Roche/454\n",
      "Lifesciences paired-end data. The Roche/454 Lifesciences sequence\n",
      "was assembled using the Roche/454 Lifesciences Newbler assembler.\n",
      "The contigs from the Newbler assembly were aligned with mapping\n",
      "tools such as Mosaic and Crossmatch and these data were used for\n",
      "error correction for this version of the draft assembly. This draft\n",
      "assembly meets the HMP draft quality standards (more than 90% of\n",
      "the genome is included in contigs, more than 90% of a core set of\n",
      "bacterial genes are found with > 30% identity and > 30% length;\n",
      "more than 90% of the bases in the assembly have more than 5 fold\n",
      "sequence coverage, the contig N50 length is greater than 5kb, the\n",
      "scaffold N50 length is greater than 20kb, and there is less than 1\n",
      "gap per 5kb).\n",
      "Product names were updated in June 2013.\n",
      "                                     Annotation Pipeline (PGAP)\n",
      "                                     set; GeneMarkS-2+\n",
      "                                     repeat_region\n",
      "/structured_comment=OrderedDict([('Genome-Assembly-Data', OrderedDict([('Finishing Goal', 'High-Quality Draft'), ('Current Finishing Status', 'High-Quality Draft'), ('Assembly Method', 'Newbler Assembler v. 2.0-01162009'), ('Genome Coverage', '26x'), ('Sequencing Technology', '454')])), ('Genome-Annotation-Data', OrderedDict([('Annotation Provider', 'NCBI RefSeq'), ('Annotation Date', '09/18/2019 01:25:05'), ('Annotation Pipeline', 'NCBI Prokaryotic Genome'), ('Annotation Method', 'Best-placed reference protein'), ('Annotation Software revision', '4.9'), ('Features Annotated', 'Gene; CDS; rRNA; tRNA; ncRNA;'), ('Genes (total)', '2,825'), ('CDSs (total)', '2,760'), ('Genes (coding)', '2,665'), ('CDSs (with protein)', '2,665'), ('Genes (RNA)', '65'), ('rRNAs', '2, 2, 1 (5S, 16S, 23S)'), ('complete rRNAs', '2, 1 (5S, 23S)'), ('partial rRNAs', '2 (16S)'), ('tRNAs', '56'), ('ncRNAs', '4'), ('Pseudo Genes (total)', '95'), ('CDSs (without protein)', '95'), ('Pseudo Genes (ambiguous residues)', '1 of 95'), ('Pseudo Genes (frameshifted)', '62 of 95'), ('Pseudo Genes (incomplete)', '31 of 95'), ('Pseudo Genes (internal stop)', '16 of 95'), ('Pseudo Genes (multiple problems)', '15 of 95')]))])\n",
      "/wgs=['ADVP01000001', 'ADVP01000047']\n",
      "/wgs_scafld=[['NZ_GG774480', 'NZ_GG774506']]\n",
      "UnknownSeq(2765363, alphabet=IUPACAmbiguousDNA(), character='N')\n"
     ]
    }
   ],
   "source": [
    "handle = Entrez.efetch(db=\"nucleotide\", id=\"297250928\", rettype=\"gb\", retmode=\"text\")\n",
    "record = SeqIO.read(handle, \"genbank\")\n",
    "print(record)"
   ]
  },
  {
   "cell_type": "code",
   "execution_count": 240,
   "metadata": {},
   "outputs": [],
   "source": [
    "handle.close()"
   ]
  },
  {
   "cell_type": "code",
   "execution_count": 241,
   "metadata": {
    "scrolled": false
   },
   "outputs": [
    {
     "name": "stdout",
     "output_type": "stream",
     "text": [
      "ID: J01418.1\n",
      "Name: HUMMTDL\n",
      "Description: human mt (mitochondrial) d-loop region\n",
      "Number of features: 1\n",
      "/molecule_type=DNA\n",
      "/topology=linear\n",
      "/data_file_division=PRI\n",
      "/date=03-AUG-1993\n",
      "/accessions=['J01418']\n",
      "/sequence_version=1\n",
      "/keywords=['displacement loop']\n",
      "/source=mitochondrion Homo sapiens (human)\n",
      "/organism=Homo sapiens\n",
      "/taxonomy=['Eukaryotae', 'mitochondrial eukaryotes', 'Metazoa', 'Chordata', 'Vertebrata', 'Eutheria', 'Primates', 'Catarrhini', 'Hominidae', 'Homo']\n",
      "/references=[Reference(title='sequence and properties of the human kb cell and mouse l cell d-loop regions of mitochondrial dna', ...)]\n",
      "/comment=[WARNING] On Feb 11, 2005 this sequence was replaced by V00661.1.\n",
      "Original source text: human mt dna from kb cells.\n",
      "EMBL features not translated to GenBank features:\n",
      "   key        from     to       description\n",
      "   TRNA         <1     30       tRNA-Pro\n",
      "   TRNA       1153  >1164       tRNA-Phe\n",
      "   SITE        766    766       5' end of D-loop\n",
      "   SITE        743    749       approx. 5' end of D-loop\n",
      "   SITE        722    728       approx. 5' end of D-loop\n",
      "   SITE        683    686       approx. 5' end of D-loop\n",
      "   SITE        111    113       approx. 3' end of D-loop\n",
      "   MUTANT      131    131       C can be T\n",
      "   MUTANT      525    525       C can be T\n",
      "   MUTANT      284    284       T can be C\n",
      "   MUTANT      648    648       G can be A\n",
      "   MUTANT      838    838       G can be A\n",
      "   MUTANT      885    885       can be missing\n",
      "   MUTANT      886    886       can be missing\n",
      "   MUTANT      888    888       can be missing.\n",
      "Seq('AGCTAAGATTCTAATTTAAACTATTCTCTGTTCTTTCATGGGGAAGCAGATTTG...GCT', IUPACAmbiguousDNA())\n"
     ]
    }
   ],
   "source": [
    "handle = Entrez.efetch(db=\"nucleotide\", id=\"337208\", rettype=\"gb\", retmode=\"text\")\n",
    "record = SeqIO.read(handle, \"genbank\")\n",
    "print(record)"
   ]
  },
  {
   "cell_type": "code",
   "execution_count": 242,
   "metadata": {},
   "outputs": [],
   "source": [
    "handle.close()"
   ]
  },
  {
   "cell_type": "code",
   "execution_count": 247,
   "metadata": {},
   "outputs": [
    {
     "name": "stdout",
     "output_type": "stream",
     "text": [
      ">NC_017343.1 Staphylococcus aureus subsp. aureus ECT-R 2 com plete genome\r\n",
      "ATTAATCCCAATAAATCGAGTCGATTTCACCGTTTTTAACAACTTTAATATTTTTTCTGT \r\n",
      "TCTCTTCTAAAGGACGAGTTAAGTCAAAAGTATAGTAATCTCTAGGACCACCATCTTTAA \r\n",
      "TTCTGACAACTGCTTTCTTCACATCACCTTGGCTTAATTTTTTAACAATAAGGTACAGAT \r\n",
      "CATTAACAGTTTCAGCTTTGTAAGGAGTTAGATTTTTATCAGACTCTTTCATTAACTTAT \r\n",
      "CAATACGTTCATCGTCCTTTTTAGCTTGATCTGCTAAATTTTTTGCGATTTCTAAACCTT \r\n",
      "TCCATTCATAACTAAAGAAAGCTTTAGCATCATTAGTTTGAGTTAAAAGACCTGCAGCGA \r\n",
      "TTACTGTAGATGCGATAATAGTTTTTGTGATATTTTTTTTCAT\r\n"
     ]
    }
   ],
   "source": [
    "cat flpNC_017343.fasta"
   ]
  },
  {
   "cell_type": "code",
   "execution_count": 248,
   "metadata": {
    "scrolled": false
   },
   "outputs": [
    {
     "data": {
      "text/plain": [
       "SeqRecord(seq=Seq('INPNKSSRFHRF*QL*YFFCSLLKDELSQKYSNL*DHHL*F*QLLSSHHLGLIF...FFS', HasStopCodon(ExtendedIUPACProtein(), '*')), id='<unknown id>', name='<unknown name>', description='<unknown description>', dbxrefs=[])"
      ]
     },
     "execution_count": 248,
     "metadata": {},
     "output_type": "execute_result"
    }
   ],
   "source": [
    "from Bio.Seq import Seq\n",
    "from Bio import SeqIO\n",
    "from Bio.Alphabet import IUPAC\n",
    "flpNC_017343_AA = SeqIO.read(\"flpNC_017343.fasta\", \"fasta\")\n",
    ", IUPAC.unambiguous_dna)\n",
    "flpNC_017343_AA.translate(table=\"Bacterial\")\n",
    "\n"
   ]
  },
  {
   "cell_type": "code",
   "execution_count": 249,
   "metadata": {
    "scrolled": true
   },
   "outputs": [],
   "source": [
    "from Bio.SeqUtils.ProtParam import ProteinAnalysis\n",
    "flpNC_017343_AA = \"INPNKSSRFHRF*QL*YFFCSLLKDELSQKYSNL*DHHL*F*QLLSSHHLGLIF...FFS\"\n",
    "flpNC_017343_AA = ProteinAnalysis(flpNC_017343_AA)    "
   ]
  },
  {
   "cell_type": "code",
   "execution_count": 250,
   "metadata": {},
   "outputs": [
    {
     "data": {
      "text/plain": [
       "{'A': 0,\n",
       " 'C': 1,\n",
       " 'D': 2,\n",
       " 'E': 1,\n",
       " 'F': 8,\n",
       " 'G': 1,\n",
       " 'H': 5,\n",
       " 'I': 2,\n",
       " 'K': 3,\n",
       " 'L': 10,\n",
       " 'M': 0,\n",
       " 'N': 3,\n",
       " 'P': 1,\n",
       " 'Q': 3,\n",
       " 'R': 2,\n",
       " 'S': 8,\n",
       " 'T': 0,\n",
       " 'V': 0,\n",
       " 'W': 0,\n",
       " 'Y': 2}"
      ]
     },
     "execution_count": 250,
     "metadata": {},
     "output_type": "execute_result"
    }
   ],
   "source": [
    "flpNC_017343_AA.count_amino_acids()"
   ]
  },
  {
   "cell_type": "code",
   "execution_count": 251,
   "metadata": {},
   "outputs": [
    {
     "data": {
      "text/plain": [
       "(0.3666666666666667, 0.21666666666666667, 0.18333333333333332)"
      ]
     },
     "execution_count": 251,
     "metadata": {},
     "output_type": "execute_result"
    }
   ],
   "source": [
    "flpNC_017343_AA.secondary_structure_fraction()"
   ]
  },
  {
   "cell_type": "markdown",
   "metadata": {},
   "source": [
    "          Calculate fraction of helix, turn and sheet. \n",
    "   \n",
    "          Returns a list of the fraction of amino acids which tend \n",
    "          to be in Helix, Turn or Sheet. \n",
    "   \n",
    "          Amino acids in helix: V, I, Y, F, W, L. \n",
    "          Amino acids in Turn: N, P, G, S. \n",
    "          Amino acids in sheet: E, M, A, L. \n",
    "   \n",
    "          Returns a tuple of three floats (Helix, Turn, Sheet)\n",
    "          "
   ]
  },
  {
   "cell_type": "code",
   "execution_count": 252,
   "metadata": {},
   "outputs": [
    {
     "name": "stdout",
     "output_type": "stream",
     "text": [
      ">NC_002953.3 Staphylococcus aureus strain MSSA476, complete  genome\r\n",
      "ATTAATTTATCAGCACGTTCATCGTCCTTTTTAGCTTGGTCTGCTAAATTTTTAGCGATT        \r\n",
      "TCTAAACCTTTCCATTCATAACTAAAGAACGCCTTAGCATCATTAGTTTGAGTTAGAAGA \r\n",
      "CCTGTAGCGATGACTGTAGATGCAATAATTACTTTTGTGATATTTTTTTTCAT\r\n"
     ]
    }
   ],
   "source": [
    "cat flpNC_002953.3.fasta"
   ]
  },
  {
   "cell_type": "code",
   "execution_count": 253,
   "metadata": {},
   "outputs": [
    {
     "data": {
      "text/plain": [
       "SeqRecord(seq=Seq('INLSARSSSFLAWSAKFLAISKPFHS*LKNALASLV*VRRPVAMTVDAIITFVIFFF', HasStopCodon(ExtendedIUPACProtein(), '*')), id='<unknown id>', name='<unknown name>', description='<unknown description>', dbxrefs=[])"
      ]
     },
     "execution_count": 253,
     "metadata": {},
     "output_type": "execute_result"
    }
   ],
   "source": [
    "from Bio.Seq import Seq\n",
    "from Bio import SeqIO\n",
    "from Bio.Alphabet import IUPAC\n",
    "flpNC_002953_AA = SeqIO.read(\"flpNC_002953.3.fasta\", \"fasta\")\n",
    ", IUPAC.unambiguous_dna)\n",
    "flpNC_002953_AA.translate(table=\"Bacterial\")\n",
    "\n"
   ]
  },
  {
   "cell_type": "code",
   "execution_count": 254,
   "metadata": {},
   "outputs": [],
   "source": [
    "from Bio.SeqUtils.ProtParam import ProteinAnalysis\n",
    "flpNC_002953_AA = \"INLSARSSSFLAWSAKFLAISKPFHS*LKNALASLV*VRRPVAMTVDAIITFVIFFF\"\n",
    "flpNC_002953_AA = ProteinAnalysis(flpNC_002953_AA) "
   ]
  },
  {
   "cell_type": "code",
   "execution_count": 255,
   "metadata": {},
   "outputs": [
    {
     "data": {
      "text/plain": [
       "{'A': 8,\n",
       " 'C': 0,\n",
       " 'D': 1,\n",
       " 'E': 0,\n",
       " 'F': 7,\n",
       " 'G': 0,\n",
       " 'H': 1,\n",
       " 'I': 5,\n",
       " 'K': 3,\n",
       " 'L': 6,\n",
       " 'M': 1,\n",
       " 'N': 2,\n",
       " 'P': 2,\n",
       " 'Q': 0,\n",
       " 'R': 3,\n",
       " 'S': 8,\n",
       " 'T': 2,\n",
       " 'V': 5,\n",
       " 'W': 1,\n",
       " 'Y': 0}"
      ]
     },
     "execution_count": 255,
     "metadata": {},
     "output_type": "execute_result"
    }
   ],
   "source": [
    "flpNC_002953_AA.count_amino_acids()"
   ]
  },
  {
   "cell_type": "code",
   "execution_count": 256,
   "metadata": {},
   "outputs": [
    {
     "data": {
      "text/plain": [
       "(0.42105263157894735, 0.21052631578947367, 0.2631578947368421)"
      ]
     },
     "execution_count": 256,
     "metadata": {},
     "output_type": "execute_result"
    }
   ],
   "source": [
    "flpNC_002953_AA.secondary_structure_fraction()"
   ]
  },
  {
   "cell_type": "markdown",
   "metadata": {},
   "source": [
    "          Calculate fraction of helix, turn and sheet. \n",
    "   \n",
    "          Returns a list of the fraction of amino acids which tend \n",
    "          to be in Helix, Turn or Sheet. \n",
    "   \n",
    "          Amino acids in helix: V, I, Y, F, W, L. \n",
    "          Amino acids in Turn: N, P, G, S. \n",
    "          Amino acids in sheet: E, M, A, L. \n",
    "   \n",
    "          Returns a tuple of three floats (Helix, Turn, Sheet)\n",
    "          "
   ]
  }
 ],
 "metadata": {
  "kernelspec": {
   "display_name": "Python 3",
   "language": "python",
   "name": "python3"
  },
  "language_info": {
   "codemirror_mode": {
    "name": "ipython",
    "version": 3
   },
   "file_extension": ".py",
   "mimetype": "text/x-python",
   "name": "python",
   "nbconvert_exporter": "python",
   "pygments_lexer": "ipython3",
   "version": "3.7.5"
  }
 },
 "nbformat": 4,
 "nbformat_minor": 2
}
